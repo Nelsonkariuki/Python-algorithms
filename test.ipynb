{
 "cells": [
  {
   "cell_type": "code",
   "execution_count": null,
   "id": "5dc9e35a",
   "metadata": {},
   "outputs": [],
   "source": [
    "from pyspark.sql import SparkSession\n",
    "from pyspark.sql.functions import col\n",
    "\n",
    "# Create a Spark session\n",
    "spark = SparkSession.builder \\\n",
    "    .appName(\"MaxPrimeNumber\") \\\n",
    "    .getOrCreate()\n",
    "\n",
    "# Create an RDD with N integers\n",
    "N = 121000\n",
    "numbers = spark.sparkContext.parallelize(range(2, N))\n",
    "\n",
    "# Function to check if a number is prime\n",
    "def is_prime(num):\n",
    "    if num <= 1:\n",
    "        return False\n",
    "    for i in range(2, int(num**0.5) + 1):\n",
    "        if num % i == 0:\n",
    "            return False\n",
    "    return True\n",
    "\n",
    "# Filter the RDD to get prime numbers\n",
    "prime_numbers = numbers.filter(is_prime)\n",
    "\n",
    "# Get the maximum prime number\n",
    "max_prime = prime_numbers.max()\n",
    "\n",
    "# Print the maximum prime number\n",
    "print(\"Max Prime Number:\", max_prime)\n",
    "\n",
    "# Stop the Spark session\n",
    "spark.stop()\n"
   ]
  }
 ],
 "metadata": {
  "kernelspec": {
   "display_name": "Python 3 (ipykernel)",
   "language": "python",
   "name": "python3"
  },
  "language_info": {
   "codemirror_mode": {
    "name": "ipython",
    "version": 3
   },
   "file_extension": ".py",
   "mimetype": "text/x-python",
   "name": "python",
   "nbconvert_exporter": "python",
   "pygments_lexer": "ipython3",
   "version": "3.11.5"
  }
 },
 "nbformat": 4,
 "nbformat_minor": 5
}
